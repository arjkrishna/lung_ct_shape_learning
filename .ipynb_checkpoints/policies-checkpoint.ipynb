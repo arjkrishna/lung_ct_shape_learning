{
 "cells": [
  {
   "cell_type": "code",
   "execution_count": null,
   "metadata": {},
   "outputs": [],
   "source": [
    "import numpy as np\n",
    "import tensorflow as tf\n",
    "from a2c.a2c.utils import fc, sample\n",
    "\n",
    "class MlpPolicy(object):\n",
    "\n",
    "    def __init__(self,\n",
    "                 sess,\n",
    "                 ob_space,\n",
    "                 ac_space,\n",
    "                 nenv,\n",
    "                 nsteps,\n",
    "#                  nstack,\n",
    "                 reuse=False):\n",
    "        nbatch = nenv*nsteps\n",
    "        nh = ob_space.shape\n",
    "        ob_shape = (nbatch, nh)\n",
    "        nact = ac_space.n\n",
    "        X = tf.placeholder(tf.uint8, ob_shape)  # obs\n",
    "        with tf.variable_scope(\"model\", reuse=reuse):\n",
    "            x = tf.cast(X, tf.float32)\n",
    "\n",
    "            # Only look at the most recent frame\n",
    "#             x = x[:, :, :, -1]\n",
    "\n",
    "#             h = x.get_shape()[1:]\n",
    "#             x = tf.reshape(x, [-1, int(w * h)])\n",
    "            x = fc(x, 'fc1', nh=256, init_scale=np.sqrt(2))\n",
    "            x = fc(x, 'fc2', nh=128, init_scale=np.sqrt(2))\n",
    "            x = fc(x, 'fc3', nh=64,  init_scale=np.sqrt(2))\n",
    "            pi = fc(x, 'pi', nact, act=lambda x: x)\n",
    "            vf = fc(x, 'v', 1, act=lambda x: x)\n",
    "\n",
    "        v0 = vf[:, 0]\n",
    "#         a0, a1 = sample(pi)\n",
    "        a0 = sample(pi)\n",
    "        self.initial_state = []  # not stateful\n",
    "\n",
    "        def step(ob):\n",
    "#             act1, act2, v = sess.run([a0, a1, v0], {X: ob})\n",
    "            act1, v = sess.run([a0, v0], {X: ob})\n",
    "#             return act1, act2, v, []  # dummy state\n",
    "            return act1, v, []  # dummy state\n",
    "\n",
    "        def value(ob):\n",
    "            return sess.run(v0, {X: ob})\n",
    "\n",
    "        self.X = X\n",
    "        self.pi = pi\n",
    "        self.vf = vf\n",
    "        self.step = step\n",
    "        self.value = value"
   ]
  }
 ],
 "metadata": {
  "kernelspec": {
   "display_name": "Python 3",
   "language": "python",
   "name": "python3"
  },
  "language_info": {
   "codemirror_mode": {
    "name": "ipython",
    "version": 3
   },
   "file_extension": ".py",
   "mimetype": "text/x-python",
   "name": "python",
   "nbconvert_exporter": "python",
   "pygments_lexer": "ipython3",
   "version": "3.6.8"
  }
 },
 "nbformat": 4,
 "nbformat_minor": 4
}
